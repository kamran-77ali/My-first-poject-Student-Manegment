{
 "cells": [
  {
   "cell_type": "code",
   "execution_count": null,
   "id": "32dc937d-a0af-47e4-a97d-feed8c39a2dc",
   "metadata": {},
   "outputs": [
    {
     "name": "stdout",
     "output_type": "stream",
     "text": [
      "1. Add Student\n",
      "2. remove Students\n",
      "3. veiw Student by roll number\n",
      "4. analytics student Student\n",
      "5. Delete Student\n",
      "6. Exit\n"
     ]
    },
    {
     "name": "stdin",
     "output_type": "stream",
     "text": [
      "Enter your choice:  1\n",
      "Enter student's name:  kamran\n",
      "Enter the father name:  tariq\n",
      "Enter student's roll number:  45\n",
      "Enter student semester:  4\n",
      "Enter student program: css\n",
      "Enter student courses: html\n",
      "Enter student Marks: 89\n"
     ]
    },
    {
     "name": "stdout",
     "output_type": "stream",
     "text": [
      "Student added successfully!\n",
      "1. Add Student\n",
      "2. remove Students\n",
      "3. veiw Student by roll number\n",
      "4. analytics student Student\n",
      "5. Delete Student\n",
      "6. Exit\n"
     ]
    },
    {
     "name": "stdin",
     "output_type": "stream",
     "text": [
      "Enter your choice:  4\n",
      "Enter student's roll number to update:  45\n"
     ]
    }
   ],
   "source": [
    "# Student Management System\n",
    "\n",
    "students = {}\n",
    "\n",
    "def add_student():\n",
    "    name = input(\"Enter student's name: \")\n",
    "    father_name= input(\"Enter the father name: \")\n",
    "    roll_number = input(\"Enter student's roll number: \")\n",
    "    semester = int(input(\"Enter student semester: \"))\n",
    "    program_name= input(\"Enter student program:\")\n",
    "    Courses=input(\"Enter student courses:\")\n",
    "    Marks=input(\"Enter student Marks:\")\n",
    "    students[roll_number] = {\n",
    "        'name': name,\n",
    "        'father_name': father_name,\n",
    "        'semester': semester,\n",
    "        'program_name': program_name,\n",
    "        'Courses':Courses,\n",
    "        'Marks':Marks\n",
    "    }\n",
    "\n",
    "    print(\"Student added successfully!\")\n",
    "def view_students():\n",
    "    for roll_number, student in students.items():\n",
    "        print(f\"Roll Number: {roll_number}\")\n",
    "        print(f\"Name: {student['name']}\")\n",
    "        print(f\"Class: {student['class']}\")\n",
    "        print(f\"Contact Information: {student['contact_info']}\")\n",
    "        print(\"\")\n",
    "\n",
    "def search_student():\n",
    "    roll_number = input(\"Enter student's roll number to search: \")\n",
    "    if roll_number in students:\n",
    "        student = students[roll_number]\n",
    "        print(f\"Roll Number: {roll_number}\")\n",
    "        print(f\"Name: {student['name']}\")\n",
    "        print(f\"Class: {student['class']}\")\n",
    "        print(f\"Contact Information: {student['contact_info']}\")\n",
    "    else:\n",
    "        print(\"Student not found!\")\n",
    "\n",
    "def update_student():\n",
    "    roll_number = input(\"Enter student's roll number to update: \")\n",
    "    if roll_number in students:\n",
    "        name = input(\"Enter updated name: \")\n",
    "        class_name = input(\"Enter updated class: \")\n",
    "        contact_info = input(\"Enter updated contact information: \")\n",
    "\n",
    "        students[roll_number] = {\n",
    "            'name': name,\n",
    "            'class': class_name,\n",
    "            'contact_info': contact_info\n",
    "        }\n",
    "\n",
    "        print(\"Student information updated successfully!\")\n",
    "    else:\n",
    "        print(\"Student not found!\")\n",
    "\n",
    "def delete_student():\n",
    "    roll_number = input(\"Enter student's roll number to delete: \")\n",
    "    if roll_number in students:\n",
    "        del students[roll_number]\n",
    "        print(\"Student deleted successfully!\")\n",
    "    else:\n",
    "        print(\"Student not found!\")\n",
    "\n",
    "# Main menu\n",
    "while True:\n",
    "    print(\"1. Add Student\")\n",
    "    print(\"2. remove Students\")\n",
    "    print(\"3. veiw Student by roll number\")\n",
    "    print(\"4. analytics student Student\")\n",
    "    print(\"5. Delete Student\")\n",
    "    print(\"6. Exit\")\n",
    "\n",
    "    choice = input(\"Enter your choice: \")\n",
    "\n",
    "    if choice == '1':\n",
    "        add_student()\n",
    "    elif choice == '2':\n",
    "        view_students()\n",
    "    elif choice == '3':\n",
    "        search_student()\n",
    "    elif choice == '4':\n",
    "        update_student()\n",
    "    elif choice == '5':\n",
    "        delete_student()\n",
    "    elif choice == '6':\n",
    "        break\n",
    "    else:\n",
    "        print(\"Invalid choice. Please try again.\")"
   ]
  },
  {
   "cell_type": "code",
   "execution_count": null,
   "id": "a74ed6d1-cdf3-49cb-a9d0-819f9979661f",
   "metadata": {},
   "outputs": [],
   "source": []
  }
 ],
 "metadata": {
  "kernelspec": {
   "display_name": "Python 3 (ipykernel)",
   "language": "python",
   "name": "python3"
  },
  "language_info": {
   "codemirror_mode": {
    "name": "ipython",
    "version": 3
   },
   "file_extension": ".py",
   "mimetype": "text/x-python",
   "name": "python",
   "nbconvert_exporter": "python",
   "pygments_lexer": "ipython3",
   "version": "3.11.7"
  }
 },
 "nbformat": 4,
 "nbformat_minor": 5
}
